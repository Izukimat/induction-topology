{
 "cells": [
  {
   "cell_type": "markdown",
   "id": "4942e33e",
   "metadata": {},
   "source": [
    "# Playground: Induction Topology Explorer\n",
    "---\n",
    "Use this notebook to get comfortable with the pipeline, models, and plots.\n",
    "Each section is separated by a horizontal rule for clarity.\n",
    "---"
   ]
  },
  {
   "cell_type": "markdown",
   "id": "0ac08a56",
   "metadata": {},
   "source": [
    "## 1. Environment check\n",
    "---"
   ]
  },
  {
   "cell_type": "code",
   "execution_count": 11,
   "id": "7b59113e",
   "metadata": {},
   "outputs": [
    {
     "ename": "ModuleNotFoundError",
     "evalue": "No module named 'transformer_lens'",
     "output_type": "error",
     "traceback": [
      "\u001b[31m---------------------------------------------------------------------------\u001b[39m",
      "\u001b[31mModuleNotFoundError\u001b[39m                       Traceback (most recent call last)",
      "\u001b[36mCell\u001b[39m\u001b[36m \u001b[39m\u001b[32mIn[11]\u001b[39m\u001b[32m, line 2\u001b[39m\n\u001b[32m      1\u001b[39m \u001b[38;5;28;01mfrom\u001b[39;00m\u001b[38;5;250m \u001b[39m\u001b[34;01mimportlib\u001b[39;00m\u001b[34;01m.\u001b[39;00m\u001b[34;01mmetadata\u001b[39;00m\u001b[38;5;250m \u001b[39m\u001b[38;5;28;01mimport\u001b[39;00m version, PackageNotFoundError\n\u001b[32m----> \u001b[39m\u001b[32m2\u001b[39m \u001b[38;5;28;01mimport\u001b[39;00m\u001b[38;5;250m \u001b[39m\u001b[34;01mtorch\u001b[39;00m,\u001b[38;5;250m \u001b[39m\u001b[34;01mtransformer_lens\u001b[39;00m\n\u001b[32m      4\u001b[39m \u001b[38;5;28mprint\u001b[39m(\u001b[33m\"\u001b[39m\u001b[33mtorch:\u001b[39m\u001b[33m\"\u001b[39m, torch.__version__)\n\u001b[32m      5\u001b[39m \u001b[38;5;28;01mtry\u001b[39;00m:\n",
      "\u001b[31mModuleNotFoundError\u001b[39m: No module named 'transformer_lens'"
     ]
    }
   ],
   "source": [
    "from importlib.metadata import version, PackageNotFoundError\n",
    "import torch, transformer_lens\n",
    "\n",
    "print(\"torch:\", torch.__version__)\n",
    "try:\n",
    "    print(\"transformer_lens (dist):\", version(\"transformer-lens\"))\n",
    "except PackageNotFoundError:\n",
    "    print(\"transformer-lens dist not found\")\n",
    "\n",
    "print(\"CUDA:\", torch.cuda.is_available())\n",
    "if torch.cuda.is_available():\n",
    "    print(\"GPU:\", torch.cuda.get_device_name(0))\n"
   ]
  },
  {
   "cell_type": "markdown",
   "id": "a3860078",
   "metadata": {},
   "source": [
    "## 2. Load modules and model\n",
    "---"
   ]
  },
  {
   "cell_type": "code",
   "execution_count": null,
   "id": "fe6bf8f0",
   "metadata": {},
   "outputs": [],
   "source": []
  },
  {
   "cell_type": "code",
   "execution_count": null,
   "id": "79e2344a",
   "metadata": {},
   "outputs": [],
   "source": []
  },
  {
   "cell_type": "code",
   "execution_count": null,
   "id": "e575b3a4",
   "metadata": {},
   "outputs": [],
   "source": [
    "\n",
    "import os, json, numpy as np, sys\n",
    "sys.path.append(os.path.abspath(\"src\"))\n",
    "from prompts import make_abab_prompts, make_name_prompts, find_copy_ops\n",
    "from runner import load_model, to_tokens, run_with_cache_all_layers\n",
    "from scoring import compute_scores, layer_profile, copy_accuracy_from_logits\n",
    "from plots import heatmap, profile_curve\n",
    "\n",
    "MODEL_ID = \"pythia-410m\"   # change to \"gpt2\" or \"pythia-1b\" if installed\n",
    "SEQ_LEN = 256\n",
    "BATCH = 8\n"
   ]
  },
  {
   "cell_type": "markdown",
   "id": "78e40d50",
   "metadata": {},
   "source": [
    "## 3. Create prompts and tokenize\n",
    "---"
   ]
  },
  {
   "cell_type": "code",
   "execution_count": null,
   "id": "1b9320ca",
   "metadata": {},
   "outputs": [],
   "source": []
  },
  {
   "cell_type": "code",
   "execution_count": null,
   "id": "a9cc027a",
   "metadata": {},
   "outputs": [],
   "source": [
    "\n",
    "# Mix ABAB and NAMES prompts; keep it small for a quick test\n",
    "prompts_abab = make_abab_prompts(n=BATCH//2, seq_len=SEQ_LEN, lag_values=[1,2,4,8,16], mix=\"uniform\")\n",
    "prompts_names = make_name_prompts(n=BATCH - len(prompts_abab), seq_len=SEQ_LEN, lag_values=[2,4,8,16], mix=\"uniform\")\n",
    "prompts = prompts_abab + prompts_names\n",
    "\n",
    "model = load_model(MODEL_ID, device=\"cuda\", dtype=\"float16\")\n",
    "toks = to_tokens(model, prompts, seq_len=SEQ_LEN, prepend_bos=True)\n",
    "toks = toks.to(\"cuda\")\n",
    "\n",
    "copy_ops = find_copy_ops(toks, allowed_lags=None)\n",
    "print(f\"Total copy opportunities found: {len(copy_ops)} across batch size {toks.shape[0]} and seq_len {toks.shape[1]}\")\n"
   ]
  },
  {
   "cell_type": "markdown",
   "id": "f977cd47",
   "metadata": {},
   "source": [
    "## 4. Run with cache, inspect attention of one layer/head\n",
    "---"
   ]
  },
  {
   "cell_type": "code",
   "execution_count": null,
   "id": "c071d9ae",
   "metadata": {},
   "outputs": [],
   "source": [
    "\n",
    "logits, cache = run_with_cache_all_layers(model, toks, names_filter=[\"attn\"])\n",
    "L, H = model.cfg.n_layers, model.cfg.n_heads\n",
    "print(\"Layers:\", L, \"Heads per layer:\", H)\n",
    "\n",
    "# Visualize attention from an example (b,t) at a middle layer for head 0\n",
    "if copy_ops:\n",
    "    b, t, s = copy_ops[0]\n",
    "    layer = L // 2  # mid layer\n",
    "    A = cache[\"attn\", layer]  # [B,H,Q,K]\n",
    "\n",
    "    import matplotlib.pyplot as plt\n",
    "    plt.figure(figsize=(7,4))\n",
    "    plt.plot(A[b, 0, t, :].detach().float().cpu().numpy())\n",
    "    plt.xlabel(\"Key position (s)\")\n",
    "    plt.ylabel(\"Attention weight (head 0)\")\n",
    "    plt.title(f\"Layer {layer} attention from t={t} (b={b})\")\n",
    "    plt.tight_layout()\n",
    "    plt.show()\n",
    "else:\n",
    "    print(\"No copy opportunities found; adjust prompts/seq_len/lag_values and rerun.\")\n"
   ]
  },
  {
   "cell_type": "markdown",
   "id": "563a0aa3",
   "metadata": {},
   "source": [
    "## 5. Compute per-head scores and per-layer profile\n",
    "---"
   ]
  },
  {
   "cell_type": "code",
   "execution_count": null,
   "id": "b3dc4ecf",
   "metadata": {},
   "outputs": [],
   "source": [
    "\n",
    "scores = compute_scores(model, toks, copy_ops, memory_saver=False)  # [L, H]\n",
    "print(\"Score matrix shape:\", scores.shape)\n",
    "\n",
    "# Save and plot\n",
    "os.makedirs(\"figs\", exist_ok=True)\n",
    "heatmap(scores, \"figs/heatmap_playground.png\", title=f\"Induction scores (model={MODEL_ID})\")\n",
    "\n",
    "prof = layer_profile(scores, mode=\"mean\")\n",
    "profile_curve(prof['per_layer'], \"figs/profile_playground.png\", title=\"Per-layer profile (mean)\", annotate_peak=True)\n",
    "\n",
    "print(\"Peak layer:\", prof[\"peak_layer\"], \"Relative:\", prof[\"peak_rel\"], \"Bandwidth:\", prof[\"bandwidth\"])\n"
   ]
  },
  {
   "cell_type": "markdown",
   "id": "cea3ac2b",
   "metadata": {},
   "source": [
    "## 6. Copy accuracy at copy positions (baseline)\n",
    "---"
   ]
  },
  {
   "cell_type": "code",
   "execution_count": null,
   "id": "20cf3564",
   "metadata": {},
   "outputs": [],
   "source": [
    "\n",
    "acc = copy_accuracy_from_logits(logits, toks, copy_ops)\n",
    "print(\"Baseline copy accuracy at copy positions:\", acc)\n"
   ]
  }
 ],
 "metadata": {
  "kernelspec": {
   "display_name": "MATS9 (3.12.11)",
   "language": "python",
   "name": "python3"
  },
  "language_info": {
   "codemirror_mode": {
    "name": "ipython",
    "version": 3
   },
   "file_extension": ".py",
   "mimetype": "text/x-python",
   "name": "python",
   "nbconvert_exporter": "python",
   "pygments_lexer": "ipython3",
   "version": "3.12.11"
  }
 },
 "nbformat": 4,
 "nbformat_minor": 5
}
